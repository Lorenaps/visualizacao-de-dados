{
  "nbformat": 4,
  "nbformat_minor": 0,
  "metadata": {
    "colab": {
      "name": "pre_processamento_salvador.ipynb",
      "version": "0.3.2",
      "provenance": []
    },
    "kernelspec": {
      "name": "python3",
      "display_name": "Python 3"
    }
  },
  "cells": [
    {
      "metadata": {
        "id": "9CIcwkHQdBl3",
        "colab_type": "text"
      },
      "cell_type": "markdown",
      "source": [
        "## Criando métrica para avaliar a distribuição entre homens e mulheres como responsável por um domicílio"
      ]
    },
    {
      "metadata": {
        "id": "qevtR-CZzF6S",
        "colab_type": "code",
        "colab": {}
      },
      "cell_type": "code",
      "source": [
        "import pandas as pd\n",
        "import io\n",
        "import requests"
      ],
      "execution_count": 0,
      "outputs": []
    },
    {
      "metadata": {
        "id": "UzHylRADzH46",
        "colab_type": "code",
        "colab": {}
      },
      "cell_type": "code",
      "source": [
        "url = 'https://raw.githubusercontent.com/Lorenaps/visualizacao-de-dados/master/dados/dados-salvador-join-utf8.csv'\n",
        "dados_url = requests.get(url).content"
      ],
      "execution_count": 0,
      "outputs": []
    },
    {
      "metadata": {
        "id": "PP16Xkg70FNQ",
        "colab_type": "code",
        "outputId": "0445cd58-8725-474e-ffbf-457aa86d9c86",
        "colab": {
          "base_uri": "https://localhost:8080/",
          "height": 346
        }
      },
      "cell_type": "code",
      "source": [
        "dados_salvador = pd.read_csv(io.StringIO(dados_url.decode('utf-8')))\n",
        "dados_salvador.head()"
      ],
      "execution_count": 3,
      "outputs": [
        {
          "output_type": "execute_result",
          "data": {
            "text/html": [
              "<div>\n",
              "<style scoped>\n",
              "    .dataframe tbody tr th:only-of-type {\n",
              "        vertical-align: middle;\n",
              "    }\n",
              "\n",
              "    .dataframe tbody tr th {\n",
              "        vertical-align: top;\n",
              "    }\n",
              "\n",
              "    .dataframe thead th {\n",
              "        text-align: right;\n",
              "    }\n",
              "</style>\n",
              "<table border=\"1\" class=\"dataframe\">\n",
              "  <thead>\n",
              "    <tr style=\"text-align: right;\">\n",
              "      <th></th>\n",
              "      <th>Cod_setor</th>\n",
              "      <th>Cod_Grandes Regiões</th>\n",
              "      <th>Nome_Grande_Regiao</th>\n",
              "      <th>Cod_UF</th>\n",
              "      <th>Nome_da_UF</th>\n",
              "      <th>Cod_meso</th>\n",
              "      <th>Nome_da_meso</th>\n",
              "      <th>Cod_micro</th>\n",
              "      <th>Nome_da_micro</th>\n",
              "      <th>Cod_RM</th>\n",
              "      <th>...</th>\n",
              "      <th>V233</th>\n",
              "      <th>V234</th>\n",
              "      <th>V235</th>\n",
              "      <th>V236</th>\n",
              "      <th>V237</th>\n",
              "      <th>V238</th>\n",
              "      <th>V239</th>\n",
              "      <th>V240</th>\n",
              "      <th>V241</th>\n",
              "      <th>X244</th>\n",
              "    </tr>\n",
              "  </thead>\n",
              "  <tbody>\n",
              "    <tr>\n",
              "      <th>0</th>\n",
              "      <td>292740805060001</td>\n",
              "      <td>2</td>\n",
              "      <td>Região Nordeste</td>\n",
              "      <td>29</td>\n",
              "      <td>Bahia</td>\n",
              "      <td>2905</td>\n",
              "      <td>Metropolitana de Salvador</td>\n",
              "      <td>29021</td>\n",
              "      <td>Salvador</td>\n",
              "      <td>15</td>\n",
              "      <td>...</td>\n",
              "      <td>0</td>\n",
              "      <td>0</td>\n",
              "      <td>0</td>\n",
              "      <td>0</td>\n",
              "      <td>0</td>\n",
              "      <td>0</td>\n",
              "      <td>0</td>\n",
              "      <td>0</td>\n",
              "      <td>0</td>\n",
              "      <td>NaN</td>\n",
              "    </tr>\n",
              "    <tr>\n",
              "      <th>1</th>\n",
              "      <td>292740805060002</td>\n",
              "      <td>2</td>\n",
              "      <td>Região Nordeste</td>\n",
              "      <td>29</td>\n",
              "      <td>Bahia</td>\n",
              "      <td>2905</td>\n",
              "      <td>Metropolitana de Salvador</td>\n",
              "      <td>29021</td>\n",
              "      <td>Salvador</td>\n",
              "      <td>15</td>\n",
              "      <td>...</td>\n",
              "      <td>0</td>\n",
              "      <td>0</td>\n",
              "      <td>0</td>\n",
              "      <td>0</td>\n",
              "      <td>0</td>\n",
              "      <td>0</td>\n",
              "      <td>0</td>\n",
              "      <td>0</td>\n",
              "      <td>0</td>\n",
              "      <td>NaN</td>\n",
              "    </tr>\n",
              "    <tr>\n",
              "      <th>2</th>\n",
              "      <td>292740805060003</td>\n",
              "      <td>2</td>\n",
              "      <td>Região Nordeste</td>\n",
              "      <td>29</td>\n",
              "      <td>Bahia</td>\n",
              "      <td>2905</td>\n",
              "      <td>Metropolitana de Salvador</td>\n",
              "      <td>29021</td>\n",
              "      <td>Salvador</td>\n",
              "      <td>15</td>\n",
              "      <td>...</td>\n",
              "      <td>0</td>\n",
              "      <td>0</td>\n",
              "      <td>0</td>\n",
              "      <td>0</td>\n",
              "      <td>0</td>\n",
              "      <td>0</td>\n",
              "      <td>0</td>\n",
              "      <td>0</td>\n",
              "      <td>0</td>\n",
              "      <td>NaN</td>\n",
              "    </tr>\n",
              "    <tr>\n",
              "      <th>3</th>\n",
              "      <td>292740805060004</td>\n",
              "      <td>2</td>\n",
              "      <td>Região Nordeste</td>\n",
              "      <td>29</td>\n",
              "      <td>Bahia</td>\n",
              "      <td>2905</td>\n",
              "      <td>Metropolitana de Salvador</td>\n",
              "      <td>29021</td>\n",
              "      <td>Salvador</td>\n",
              "      <td>15</td>\n",
              "      <td>...</td>\n",
              "      <td>0</td>\n",
              "      <td>0</td>\n",
              "      <td>0</td>\n",
              "      <td>0</td>\n",
              "      <td>0</td>\n",
              "      <td>0</td>\n",
              "      <td>0</td>\n",
              "      <td>0</td>\n",
              "      <td>0</td>\n",
              "      <td>NaN</td>\n",
              "    </tr>\n",
              "    <tr>\n",
              "      <th>4</th>\n",
              "      <td>292740805060005</td>\n",
              "      <td>2</td>\n",
              "      <td>Região Nordeste</td>\n",
              "      <td>29</td>\n",
              "      <td>Bahia</td>\n",
              "      <td>2905</td>\n",
              "      <td>Metropolitana de Salvador</td>\n",
              "      <td>29021</td>\n",
              "      <td>Salvador</td>\n",
              "      <td>15</td>\n",
              "      <td>...</td>\n",
              "      <td>0</td>\n",
              "      <td>3</td>\n",
              "      <td>3</td>\n",
              "      <td>0</td>\n",
              "      <td>0</td>\n",
              "      <td>0</td>\n",
              "      <td>0</td>\n",
              "      <td>0</td>\n",
              "      <td>0</td>\n",
              "      <td>NaN</td>\n",
              "    </tr>\n",
              "  </tbody>\n",
              "</table>\n",
              "<p>5 rows × 277 columns</p>\n",
              "</div>"
            ],
            "text/plain": [
              "         Cod_setor  Cod_Grandes Regiões Nome_Grande_Regiao  Cod_UF Nome_da_UF  \\\n",
              "0  292740805060001                    2    Região Nordeste      29      Bahia   \n",
              "1  292740805060002                    2    Região Nordeste      29      Bahia   \n",
              "2  292740805060003                    2    Região Nordeste      29      Bahia   \n",
              "3  292740805060004                    2    Região Nordeste      29      Bahia   \n",
              "4  292740805060005                    2    Região Nordeste      29      Bahia   \n",
              "\n",
              "   Cod_meso               Nome_da_meso  Cod_micro Nome_da_micro  Cod_RM  ...   \\\n",
              "0      2905  Metropolitana de Salvador      29021      Salvador      15  ...    \n",
              "1      2905  Metropolitana de Salvador      29021      Salvador      15  ...    \n",
              "2      2905  Metropolitana de Salvador      29021      Salvador      15  ...    \n",
              "3      2905  Metropolitana de Salvador      29021      Salvador      15  ...    \n",
              "4      2905  Metropolitana de Salvador      29021      Salvador      15  ...    \n",
              "\n",
              "  V233  V234 V235  V236 V237  V238 V239  V240 V241  X244  \n",
              "0    0     0    0     0    0     0    0     0    0   NaN  \n",
              "1    0     0    0     0    0     0    0     0    0   NaN  \n",
              "2    0     0    0     0    0     0    0     0    0   NaN  \n",
              "3    0     0    0     0    0     0    0     0    0   NaN  \n",
              "4    0     3    3     0    0     0    0     0    0   NaN  \n",
              "\n",
              "[5 rows x 277 columns]"
            ]
          },
          "metadata": {
            "tags": []
          },
          "execution_count": 3
        }
      ]
    },
    {
      "metadata": {
        "id": "FRe4WmWhMun6",
        "colab_type": "code",
        "colab": {}
      },
      "cell_type": "code",
      "source": [
        "dados_salvador[['V062', 'V063', 'V064', 'V065', 'V066', 'V067', 'V068']] = dados_salvador[['V062', 'V063', 'V064', 'V065', 'V066', 'V067', 'V068']].replace('X', 0)"
      ],
      "execution_count": 0,
      "outputs": []
    },
    {
      "metadata": {
        "id": "VNlIkDsgix8v",
        "colab_type": "code",
        "outputId": "e2daf62c-d739-4008-fdd0-7bc0712beff9",
        "colab": {
          "base_uri": "https://localhost:8080/",
          "height": 150
        }
      },
      "cell_type": "code",
      "source": [
        "dados_salvador[['V062', 'V063', 'V064', 'V065', 'V066', 'V067', 'V068']] = dados_salvador[['V062', 'V063', 'V064', 'V065', 'V066', 'V067', 'V068']].astype('int64')\n",
        "dados_salvador[['V062', 'V063', 'V064', 'V065', 'V066', 'V067', 'V068']].dtypes"
      ],
      "execution_count": 5,
      "outputs": [
        {
          "output_type": "execute_result",
          "data": {
            "text/plain": [
              "V062    int64\n",
              "V063    int64\n",
              "V064    int64\n",
              "V065    int64\n",
              "V066    int64\n",
              "V067    int64\n",
              "V068    int64\n",
              "dtype: object"
            ]
          },
          "metadata": {
            "tags": []
          },
          "execution_count": 5
        }
      ]
    },
    {
      "metadata": {
        "id": "15bEGSgLNiMw",
        "colab_type": "code",
        "outputId": "a3d5c83a-ef02-4ea0-b6d9-ab7cfe62485a",
        "colab": {
          "base_uri": "https://localhost:8080/",
          "height": 116
        }
      },
      "cell_type": "code",
      "source": [
        "dados_salvador['V062'].head()"
      ],
      "execution_count": 6,
      "outputs": [
        {
          "output_type": "execute_result",
          "data": {
            "text/plain": [
              "0    23\n",
              "1    23\n",
              "2    32\n",
              "3     7\n",
              "4    23\n",
              "Name: V062, dtype: int64"
            ]
          },
          "metadata": {
            "tags": []
          },
          "execution_count": 6
        }
      ]
    },
    {
      "metadata": {
        "id": "URva04pANmuo",
        "colab_type": "code",
        "outputId": "392e77e5-ae4f-4551-fd3e-4559afd99f3b",
        "colab": {
          "base_uri": "https://localhost:8080/",
          "height": 116
        }
      },
      "cell_type": "code",
      "source": [
        "dados_salvador['V063'].head()"
      ],
      "execution_count": 7,
      "outputs": [
        {
          "output_type": "execute_result",
          "data": {
            "text/plain": [
              "0    22\n",
              "1    25\n",
              "2    21\n",
              "3     6\n",
              "4    28\n",
              "Name: V063, dtype: int64"
            ]
          },
          "metadata": {
            "tags": []
          },
          "execution_count": 7
        }
      ]
    },
    {
      "metadata": {
        "id": "H98t4FyBOnK9",
        "colab_type": "code",
        "outputId": "8492d8a3-5cb7-4965-970b-7284208a95a2",
        "colab": {
          "base_uri": "https://localhost:8080/",
          "height": 116
        }
      },
      "cell_type": "code",
      "source": [
        "dados_salvador['V064'].head()"
      ],
      "execution_count": 8,
      "outputs": [
        {
          "output_type": "execute_result",
          "data": {
            "text/plain": [
              "0     8\n",
              "1    19\n",
              "2    18\n",
              "3     5\n",
              "4    26\n",
              "Name: V064, dtype: int64"
            ]
          },
          "metadata": {
            "tags": []
          },
          "execution_count": 8
        }
      ]
    },
    {
      "metadata": {
        "id": "pJO0erpoOnw4",
        "colab_type": "code",
        "outputId": "570d97d7-db6e-40bd-fe79-6bb8310cfe80",
        "colab": {
          "base_uri": "https://localhost:8080/",
          "height": 116
        }
      },
      "cell_type": "code",
      "source": [
        "dados_salvador['V065'].head()"
      ],
      "execution_count": 9,
      "outputs": [
        {
          "output_type": "execute_result",
          "data": {
            "text/plain": [
              "0    1\n",
              "1    9\n",
              "2    6\n",
              "3    2\n",
              "4    9\n",
              "Name: V065, dtype: int64"
            ]
          },
          "metadata": {
            "tags": []
          },
          "execution_count": 9
        }
      ]
    },
    {
      "metadata": {
        "id": "Wuut1T30Ook-",
        "colab_type": "code",
        "outputId": "c555af54-6538-46ca-d5ba-0e136c641e84",
        "colab": {
          "base_uri": "https://localhost:8080/",
          "height": 116
        }
      },
      "cell_type": "code",
      "source": [
        "dados_salvador['V066'].head()"
      ],
      "execution_count": 10,
      "outputs": [
        {
          "output_type": "execute_result",
          "data": {
            "text/plain": [
              "0    1\n",
              "1    4\n",
              "2    3\n",
              "3    2\n",
              "4    8\n",
              "Name: V066, dtype: int64"
            ]
          },
          "metadata": {
            "tags": []
          },
          "execution_count": 10
        }
      ]
    },
    {
      "metadata": {
        "id": "Pwr1yv7nOtnd",
        "colab_type": "code",
        "outputId": "466376e8-3096-45de-9e9b-61f79b4f44bc",
        "colab": {
          "base_uri": "https://localhost:8080/",
          "height": 116
        }
      },
      "cell_type": "code",
      "source": [
        "dados_salvador['V067'].head()"
      ],
      "execution_count": 11,
      "outputs": [
        {
          "output_type": "execute_result",
          "data": {
            "text/plain": [
              "0    1\n",
              "1    1\n",
              "2    3\n",
              "3    0\n",
              "4    2\n",
              "Name: V067, dtype: int64"
            ]
          },
          "metadata": {
            "tags": []
          },
          "execution_count": 11
        }
      ]
    },
    {
      "metadata": {
        "id": "zc5dfitrOwBV",
        "colab_type": "code",
        "outputId": "cec31502-0e88-4138-f778-7cb9839991e5",
        "colab": {
          "base_uri": "https://localhost:8080/",
          "height": 116
        }
      },
      "cell_type": "code",
      "source": [
        "dados_salvador['V068'].head()"
      ],
      "execution_count": 12,
      "outputs": [
        {
          "output_type": "execute_result",
          "data": {
            "text/plain": [
              "0    24\n",
              "1    19\n",
              "2    26\n",
              "3     6\n",
              "4    23\n",
              "Name: V068, dtype: int64"
            ]
          },
          "metadata": {
            "tags": []
          },
          "execution_count": 12
        }
      ]
    },
    {
      "metadata": {
        "id": "idzsenC3hYIJ",
        "colab_type": "code",
        "outputId": "cceb45ce-ac91-4804-b248-04dd3dc16ce0",
        "colab": {
          "base_uri": "https://localhost:8080/",
          "height": 116
        }
      },
      "cell_type": "code",
      "source": [
        "dados_salvador['qtd_homens'] = dados_salvador['V062'] + dados_salvador['V063'] + dados_salvador['V064'] + dados_salvador['V065'] + dados_salvador['V066'] + dados_salvador['V067'] + dados_salvador['V068']\n",
        "dados_salvador['qtd_homens'].head()"
      ],
      "execution_count": 13,
      "outputs": [
        {
          "output_type": "execute_result",
          "data": {
            "text/plain": [
              "0     80\n",
              "1    100\n",
              "2    109\n",
              "3     28\n",
              "4    119\n",
              "Name: qtd_homens, dtype: int64"
            ]
          },
          "metadata": {
            "tags": []
          },
          "execution_count": 13
        }
      ]
    },
    {
      "metadata": {
        "id": "Gfe_9PfDhvdg",
        "colab_type": "code",
        "outputId": "d8a7f668-ae8a-4b71-e119-4fc7e6c87707",
        "colab": {
          "base_uri": "https://localhost:8080/",
          "height": 197
        }
      },
      "cell_type": "code",
      "source": [
        "dados_salvador[['V081', 'V082', 'V083', 'V084', 'V085', 'V086', 'V087']] = dados_salvador[['V081', 'V082', 'V083', 'V084', 'V085', 'V086', 'V087']].replace('X', 0)\n",
        "dados_salvador[['V081', 'V082', 'V083', 'V084', 'V085', 'V086', 'V087']].head()"
      ],
      "execution_count": 14,
      "outputs": [
        {
          "output_type": "execute_result",
          "data": {
            "text/html": [
              "<div>\n",
              "<style scoped>\n",
              "    .dataframe tbody tr th:only-of-type {\n",
              "        vertical-align: middle;\n",
              "    }\n",
              "\n",
              "    .dataframe tbody tr th {\n",
              "        vertical-align: top;\n",
              "    }\n",
              "\n",
              "    .dataframe thead th {\n",
              "        text-align: right;\n",
              "    }\n",
              "</style>\n",
              "<table border=\"1\" class=\"dataframe\">\n",
              "  <thead>\n",
              "    <tr style=\"text-align: right;\">\n",
              "      <th></th>\n",
              "      <th>V081</th>\n",
              "      <th>V082</th>\n",
              "      <th>V083</th>\n",
              "      <th>V084</th>\n",
              "      <th>V085</th>\n",
              "      <th>V086</th>\n",
              "      <th>V087</th>\n",
              "    </tr>\n",
              "  </thead>\n",
              "  <tbody>\n",
              "    <tr>\n",
              "      <th>0</th>\n",
              "      <td>38</td>\n",
              "      <td>11</td>\n",
              "      <td>10</td>\n",
              "      <td>7</td>\n",
              "      <td>1</td>\n",
              "      <td>1</td>\n",
              "      <td>39</td>\n",
              "    </tr>\n",
              "    <tr>\n",
              "      <th>1</th>\n",
              "      <td>32</td>\n",
              "      <td>33</td>\n",
              "      <td>28</td>\n",
              "      <td>9</td>\n",
              "      <td>0</td>\n",
              "      <td>5</td>\n",
              "      <td>25</td>\n",
              "    </tr>\n",
              "    <tr>\n",
              "      <th>2</th>\n",
              "      <td>28</td>\n",
              "      <td>16</td>\n",
              "      <td>11</td>\n",
              "      <td>4</td>\n",
              "      <td>1</td>\n",
              "      <td>3</td>\n",
              "      <td>21</td>\n",
              "    </tr>\n",
              "    <tr>\n",
              "      <th>3</th>\n",
              "      <td>7</td>\n",
              "      <td>7</td>\n",
              "      <td>6</td>\n",
              "      <td>1</td>\n",
              "      <td>0</td>\n",
              "      <td>0</td>\n",
              "      <td>7</td>\n",
              "    </tr>\n",
              "    <tr>\n",
              "      <th>4</th>\n",
              "      <td>38</td>\n",
              "      <td>29</td>\n",
              "      <td>17</td>\n",
              "      <td>6</td>\n",
              "      <td>4</td>\n",
              "      <td>2</td>\n",
              "      <td>30</td>\n",
              "    </tr>\n",
              "  </tbody>\n",
              "</table>\n",
              "</div>"
            ],
            "text/plain": [
              "  V081 V082 V083 V084 V085 V086 V087\n",
              "0   38   11   10    7    1    1   39\n",
              "1   32   33   28    9    0    5   25\n",
              "2   28   16   11    4    1    3   21\n",
              "3    7    7    6    1    0    0    7\n",
              "4   38   29   17    6    4    2   30"
            ]
          },
          "metadata": {
            "tags": []
          },
          "execution_count": 14
        }
      ]
    },
    {
      "metadata": {
        "id": "54Zu4OGgPl_M",
        "colab_type": "code",
        "outputId": "a5a3bce7-d72f-4167-9f8f-9cf5808266bd",
        "colab": {
          "base_uri": "https://localhost:8080/",
          "height": 150
        }
      },
      "cell_type": "code",
      "source": [
        "dados_salvador[['V081', 'V082', 'V083', 'V084', 'V085', 'V086', 'V087']] = dados_salvador[['V081', 'V082', 'V083', 'V084', 'V085', 'V086', 'V087']].astype('int64')\n",
        "dados_salvador[['V081', 'V082', 'V083', 'V084', 'V085', 'V086', 'V087']].dtypes"
      ],
      "execution_count": 15,
      "outputs": [
        {
          "output_type": "execute_result",
          "data": {
            "text/plain": [
              "V081    int64\n",
              "V082    int64\n",
              "V083    int64\n",
              "V084    int64\n",
              "V085    int64\n",
              "V086    int64\n",
              "V087    int64\n",
              "dtype: object"
            ]
          },
          "metadata": {
            "tags": []
          },
          "execution_count": 15
        }
      ]
    },
    {
      "metadata": {
        "id": "N5P6IgnUPeLd",
        "colab_type": "code",
        "outputId": "50daed91-897d-4a17-a9d4-e734c6994446",
        "colab": {
          "base_uri": "https://localhost:8080/",
          "height": 116
        }
      },
      "cell_type": "code",
      "source": [
        "dados_salvador['qtd_resp_mulheres'] = dados_salvador['V081'] + dados_salvador['V082'] + dados_salvador['V083'] + dados_salvador['V084'] + dados_salvador['V085'] + dados_salvador['V086'] + dados_salvador['V087']\n",
        "dados_salvador['qtd_resp_mulheres'].head()"
      ],
      "execution_count": 16,
      "outputs": [
        {
          "output_type": "execute_result",
          "data": {
            "text/plain": [
              "0    107\n",
              "1    132\n",
              "2     84\n",
              "3     28\n",
              "4    126\n",
              "Name: qtd_resp_mulheres, dtype: int64"
            ]
          },
          "metadata": {
            "tags": []
          },
          "execution_count": 16
        }
      ]
    },
    {
      "metadata": {
        "id": "WFRgBE5rLJRN",
        "colab_type": "code",
        "colab": {
          "base_uri": "https://localhost:8080/",
          "height": 116
        },
        "outputId": "904898d9-1fa4-4d27-b4cd-48bc3c944cb6"
      },
      "cell_type": "code",
      "source": [
        "dados_salvador['total_resp'] = dados_salvador['qtd_resp_mulheres'] + dados_salvador['qtd_homens']\n",
        "dados_salvador['total_resp'].head()"
      ],
      "execution_count": 17,
      "outputs": [
        {
          "output_type": "execute_result",
          "data": {
            "text/plain": [
              "0    187\n",
              "1    232\n",
              "2    193\n",
              "3     56\n",
              "4    245\n",
              "Name: total_resp, dtype: int64"
            ]
          },
          "metadata": {
            "tags": []
          },
          "execution_count": 17
        }
      ]
    },
    {
      "metadata": {
        "id": "qRsBV4JbLnJ5",
        "colab_type": "code",
        "colab": {
          "base_uri": "https://localhost:8080/",
          "height": 1050
        },
        "outputId": "3cd02a87-75e4-4419-801e-f5e0c08b9dfa"
      },
      "cell_type": "code",
      "source": [
        "dados_salvador['proporcao_resp_mulheres'] = dados_salvador['qtd_resp_mulheres']/dados_salvador['total_resp']\n",
        "dados_salvador['proporcao_resp_mulheres']"
      ],
      "execution_count": 21,
      "outputs": [
        {
          "output_type": "execute_result",
          "data": {
            "text/plain": [
              "0       0.572193\n",
              "1       0.568966\n",
              "2       0.435233\n",
              "3       0.500000\n",
              "4       0.514286\n",
              "5       0.415730\n",
              "6       0.521490\n",
              "7       0.414141\n",
              "8       0.511278\n",
              "9       0.579167\n",
              "10      0.534091\n",
              "11      0.497175\n",
              "12      0.389764\n",
              "13      0.430493\n",
              "14      0.696078\n",
              "15      0.601523\n",
              "16      0.379699\n",
              "17      0.386282\n",
              "18      0.409091\n",
              "19      0.664234\n",
              "20      0.441935\n",
              "21      0.422535\n",
              "22      0.468571\n",
              "23      0.586364\n",
              "24      0.411765\n",
              "25      0.443223\n",
              "26      0.502392\n",
              "27      0.546099\n",
              "28      0.625000\n",
              "29      0.428144\n",
              "          ...   \n",
              "3516    0.643478\n",
              "3517    0.525862\n",
              "3518    0.564706\n",
              "3519    0.413333\n",
              "3520    0.477273\n",
              "3521    0.435644\n",
              "3522    0.422018\n",
              "3523    0.439516\n",
              "3524    0.472527\n",
              "3525    0.475000\n",
              "3526    0.364407\n",
              "3527    0.526316\n",
              "3528    0.642857\n",
              "3529    0.413534\n",
              "3530    0.669014\n",
              "3531    0.567164\n",
              "3532    0.321101\n",
              "3533    0.552189\n",
              "3534    0.442553\n",
              "3535    0.357692\n",
              "3536    0.384615\n",
              "3537    0.558824\n",
              "3538    0.494949\n",
              "3539    0.471429\n",
              "3540    0.439614\n",
              "3541    0.367816\n",
              "3542    0.520161\n",
              "3543    0.388889\n",
              "3544    0.444444\n",
              "3545    0.515284\n",
              "Name: proporcao_resp_mulheres, Length: 3546, dtype: float64"
            ]
          },
          "metadata": {
            "tags": []
          },
          "execution_count": 21
        }
      ]
    },
    {
      "metadata": {
        "id": "XyPI8KMFL9tZ",
        "colab_type": "code",
        "colab": {
          "base_uri": "https://localhost:8080/",
          "height": 1050
        },
        "outputId": "c8d2f2dd-f9eb-4e5b-c71f-35373037d4d3"
      },
      "cell_type": "code",
      "source": [
        "dados_salvador['proporcao_resp_homens'] = dados_salvador['qtd_homens']/dados_salvador['total_resp']\n",
        "dados_salvador['proporcao_resp_homens'] "
      ],
      "execution_count": 22,
      "outputs": [
        {
          "output_type": "execute_result",
          "data": {
            "text/plain": [
              "0       0.427807\n",
              "1       0.431034\n",
              "2       0.564767\n",
              "3       0.500000\n",
              "4       0.485714\n",
              "5       0.584270\n",
              "6       0.478510\n",
              "7       0.585859\n",
              "8       0.488722\n",
              "9       0.420833\n",
              "10      0.465909\n",
              "11      0.502825\n",
              "12      0.610236\n",
              "13      0.569507\n",
              "14      0.303922\n",
              "15      0.398477\n",
              "16      0.620301\n",
              "17      0.613718\n",
              "18      0.590909\n",
              "19      0.335766\n",
              "20      0.558065\n",
              "21      0.577465\n",
              "22      0.531429\n",
              "23      0.413636\n",
              "24      0.588235\n",
              "25      0.556777\n",
              "26      0.497608\n",
              "27      0.453901\n",
              "28      0.375000\n",
              "29      0.571856\n",
              "          ...   \n",
              "3516    0.356522\n",
              "3517    0.474138\n",
              "3518    0.435294\n",
              "3519    0.586667\n",
              "3520    0.522727\n",
              "3521    0.564356\n",
              "3522    0.577982\n",
              "3523    0.560484\n",
              "3524    0.527473\n",
              "3525    0.525000\n",
              "3526    0.635593\n",
              "3527    0.473684\n",
              "3528    0.357143\n",
              "3529    0.586466\n",
              "3530    0.330986\n",
              "3531    0.432836\n",
              "3532    0.678899\n",
              "3533    0.447811\n",
              "3534    0.557447\n",
              "3535    0.642308\n",
              "3536    0.615385\n",
              "3537    0.441176\n",
              "3538    0.505051\n",
              "3539    0.528571\n",
              "3540    0.560386\n",
              "3541    0.632184\n",
              "3542    0.479839\n",
              "3543    0.611111\n",
              "3544    0.555556\n",
              "3545    0.484716\n",
              "Name: proporcao_resp_homens, Length: 3546, dtype: float64"
            ]
          },
          "metadata": {
            "tags": []
          },
          "execution_count": 22
        }
      ]
    },
    {
      "metadata": {
        "id": "6eWdVhCaNHYC",
        "colab_type": "code",
        "colab": {
          "base_uri": "https://localhost:8080/",
          "height": 1050
        },
        "outputId": "4a784207-cd41-4621-dca4-d542b95b6960"
      },
      "cell_type": "code",
      "source": [
        "dados_salvador['perc_resp_homens'] = dados_salvador['proporcao_resp_homens'] * 100\n",
        "dados_salvador['perc_resp_homens']"
      ],
      "execution_count": 25,
      "outputs": [
        {
          "output_type": "execute_result",
          "data": {
            "text/plain": [
              "0       42.780749\n",
              "1       43.103448\n",
              "2       56.476684\n",
              "3       50.000000\n",
              "4       48.571429\n",
              "5       58.426966\n",
              "6       47.851003\n",
              "7       58.585859\n",
              "8       48.872180\n",
              "9       42.083333\n",
              "10      46.590909\n",
              "11      50.282486\n",
              "12      61.023622\n",
              "13      56.950673\n",
              "14      30.392157\n",
              "15      39.847716\n",
              "16      62.030075\n",
              "17      61.371841\n",
              "18      59.090909\n",
              "19      33.576642\n",
              "20      55.806452\n",
              "21      57.746479\n",
              "22      53.142857\n",
              "23      41.363636\n",
              "24      58.823529\n",
              "25      55.677656\n",
              "26      49.760766\n",
              "27      45.390071\n",
              "28      37.500000\n",
              "29      57.185629\n",
              "          ...    \n",
              "3516    35.652174\n",
              "3517    47.413793\n",
              "3518    43.529412\n",
              "3519    58.666667\n",
              "3520    52.272727\n",
              "3521    56.435644\n",
              "3522    57.798165\n",
              "3523    56.048387\n",
              "3524    52.747253\n",
              "3525    52.500000\n",
              "3526    63.559322\n",
              "3527    47.368421\n",
              "3528    35.714286\n",
              "3529    58.646617\n",
              "3530    33.098592\n",
              "3531    43.283582\n",
              "3532    67.889908\n",
              "3533    44.781145\n",
              "3534    55.744681\n",
              "3535    64.230769\n",
              "3536    61.538462\n",
              "3537    44.117647\n",
              "3538    50.505051\n",
              "3539    52.857143\n",
              "3540    56.038647\n",
              "3541    63.218391\n",
              "3542    47.983871\n",
              "3543    61.111111\n",
              "3544    55.555556\n",
              "3545    48.471616\n",
              "Name: perc_resp_homens, Length: 3546, dtype: float64"
            ]
          },
          "metadata": {
            "tags": []
          },
          "execution_count": 25
        }
      ]
    },
    {
      "metadata": {
        "id": "FldPqgaDNSgh",
        "colab_type": "code",
        "colab": {
          "base_uri": "https://localhost:8080/",
          "height": 1050
        },
        "outputId": "33af54c2-f3ab-4376-98a8-2b8eb900a122"
      },
      "cell_type": "code",
      "source": [
        "dados_salvador['perc_resp_mulheres'] = dados_salvador['proporcao_resp_mulheres'] * 100\n",
        "dados_salvador['perc_resp_mulheres']"
      ],
      "execution_count": 26,
      "outputs": [
        {
          "output_type": "execute_result",
          "data": {
            "text/plain": [
              "0       57.219251\n",
              "1       56.896552\n",
              "2       43.523316\n",
              "3       50.000000\n",
              "4       51.428571\n",
              "5       41.573034\n",
              "6       52.148997\n",
              "7       41.414141\n",
              "8       51.127820\n",
              "9       57.916667\n",
              "10      53.409091\n",
              "11      49.717514\n",
              "12      38.976378\n",
              "13      43.049327\n",
              "14      69.607843\n",
              "15      60.152284\n",
              "16      37.969925\n",
              "17      38.628159\n",
              "18      40.909091\n",
              "19      66.423358\n",
              "20      44.193548\n",
              "21      42.253521\n",
              "22      46.857143\n",
              "23      58.636364\n",
              "24      41.176471\n",
              "25      44.322344\n",
              "26      50.239234\n",
              "27      54.609929\n",
              "28      62.500000\n",
              "29      42.814371\n",
              "          ...    \n",
              "3516    64.347826\n",
              "3517    52.586207\n",
              "3518    56.470588\n",
              "3519    41.333333\n",
              "3520    47.727273\n",
              "3521    43.564356\n",
              "3522    42.201835\n",
              "3523    43.951613\n",
              "3524    47.252747\n",
              "3525    47.500000\n",
              "3526    36.440678\n",
              "3527    52.631579\n",
              "3528    64.285714\n",
              "3529    41.353383\n",
              "3530    66.901408\n",
              "3531    56.716418\n",
              "3532    32.110092\n",
              "3533    55.218855\n",
              "3534    44.255319\n",
              "3535    35.769231\n",
              "3536    38.461538\n",
              "3537    55.882353\n",
              "3538    49.494949\n",
              "3539    47.142857\n",
              "3540    43.961353\n",
              "3541    36.781609\n",
              "3542    52.016129\n",
              "3543    38.888889\n",
              "3544    44.444444\n",
              "3545    51.528384\n",
              "Name: perc_resp_mulheres, Length: 3546, dtype: float64"
            ]
          },
          "metadata": {
            "tags": []
          },
          "execution_count": 26
        }
      ]
    },
    {
      "metadata": {
        "id": "Ves4kDLPNsBK",
        "colab_type": "code",
        "colab": {}
      },
      "cell_type": "code",
      "source": [
        "from google.colab import files\n",
        "\n",
        "dados_salvador.to_csv('dados_salvador_metrica_calc.csv')\n",
        "files.download('dados_salvador_metrica_calc.csv')"
      ],
      "execution_count": 0,
      "outputs": []
    }
  ]
}